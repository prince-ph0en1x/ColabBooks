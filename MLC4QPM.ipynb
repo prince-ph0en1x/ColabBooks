{
  "nbformat": 4,
  "nbformat_minor": 0,
  "metadata": {
    "colab": {
      "provenance": [],
      "authorship_tag": "ABX9TyOuBMnroamXbsbk6kz8aXaJ",
      "include_colab_link": true
    },
    "kernelspec": {
      "name": "python3",
      "display_name": "Python 3"
    },
    "language_info": {
      "name": "python"
    }
  },
  "cells": [
    {
      "cell_type": "markdown",
      "metadata": {
        "id": "view-in-github",
        "colab_type": "text"
      },
      "source": [
        "<a href=\"https://colab.research.google.com/github/prince-ph0en1x/ColabBooks/blob/main/MLC4QPM.ipynb\" target=\"_parent\"><img src=\"https://colab.research.google.com/assets/colab-badge.svg\" alt=\"Open In Colab\"/></a>"
      ]
    },
    {
      "cell_type": "markdown",
      "source": [
        "# Plan\n",
        "\n",
        "- Simulator using POVM, Process Matrices and Density Matrices\n",
        "- Use pyGSTi to automatically infer a minimal tomographically complete gate set\n",
        "- Show that quantum speed limits and quantum Kolmogorov complexity results hold for this gate set\n",
        "\n",
        "### Limitations\n",
        "\n",
        "- Instead of n-qudit, currently do for 1 qubit"
      ],
      "metadata": {
        "id": "qRRitlFMDVyr"
      }
    },
    {
      "cell_type": "markdown",
      "source": [
        "## Part 1"
      ],
      "metadata": {
        "id": "QRbiOHVOFcGf"
      }
    },
    {
      "cell_type": "markdown",
      "source": [
        "## Part 2\n",
        "\n",
        "- Given set of elements $E$ and Z-measurement, construct circuits upto length $L$"
      ],
      "metadata": {
        "id": "ng7fZTgAFiru"
      }
    },
    {
      "cell_type": "code",
      "source": [
        "P = ['s0']            # Initial state preparations (only 1 choice for now)\n",
        "E = ['p1','p2','p3']  # Unitary processes\n",
        "M = ['z']             # Projective measurements (only 1 choice for now)\n",
        "\n",
        "L = 3                 # The longer the experiment length, the more intractable it is, yet has a higher chance of learning accurate control\n",
        "\n",
        "circs = []\n",
        "import itertools\n",
        "for l in range(0,L+1):\n",
        "  circs_l = itertools.product(E,repeat=l)\n",
        "  for i in circs_l:\n",
        "    qcirc = []\n",
        "    qcirc.extend(P[0])\n",
        "    qcirc.extend(list(i))\n",
        "    qcirc.extend(M[0])\n",
        "    circs.append(qcirc)\n",
        "\n",
        "print(circs)\n",
        "# The ML model's action/decision will have control on which of these circuits to run at every instance\n",
        "# We guarantee that the state before preparation is same, and the eigenvalue of measurement has no transmission error to the model\n",
        "\n",
        "\n",
        "# Ok, let's step back a bit. Let's take just the SPAM\n",
        "# Let's say, there is no noise and the system is closed, and we know the dimension of the Hilbert space (single qubit)\n",
        "# With 1 arbitrary state preparation and 1 arbitrary measurement, and no noise, what can we infer?\n",
        "# The angle between the two vector (preparation basis and measurement basis)\n",
        "# Next assumption, we measure in the same basis as our preparation\n",
        "  # this is typically the case in quantum computation (except that we know the basis)\n",
        "  # here the basis is still arbitrary (not necessarily the computation basis)\n",
        "# Now, can we infer an unitary that gives us the effect of an X-gate in terms of measurements\n"
      ],
      "metadata": {
        "colab": {
          "base_uri": "https://localhost:8080/"
        },
        "id": "ZH3DkX0RG5lC",
        "outputId": "c9c5e362-d2ab-4cfe-d7d9-1decdc6fa5c5"
      },
      "execution_count": 29,
      "outputs": [
        {
          "output_type": "stream",
          "name": "stdout",
          "text": [
            "[['s', '0', 'z'], ['s', '0', 'p1', 'z'], ['s', '0', 'p2', 'z'], ['s', '0', 'p3', 'z'], ['s', '0', 'p1', 'p1', 'z'], ['s', '0', 'p1', 'p2', 'z'], ['s', '0', 'p1', 'p3', 'z'], ['s', '0', 'p2', 'p1', 'z'], ['s', '0', 'p2', 'p2', 'z'], ['s', '0', 'p2', 'p3', 'z'], ['s', '0', 'p3', 'p1', 'z'], ['s', '0', 'p3', 'p2', 'z'], ['s', '0', 'p3', 'p3', 'z'], ['s', '0', 'p1', 'p1', 'p1', 'z'], ['s', '0', 'p1', 'p1', 'p2', 'z'], ['s', '0', 'p1', 'p1', 'p3', 'z'], ['s', '0', 'p1', 'p2', 'p1', 'z'], ['s', '0', 'p1', 'p2', 'p2', 'z'], ['s', '0', 'p1', 'p2', 'p3', 'z'], ['s', '0', 'p1', 'p3', 'p1', 'z'], ['s', '0', 'p1', 'p3', 'p2', 'z'], ['s', '0', 'p1', 'p3', 'p3', 'z'], ['s', '0', 'p2', 'p1', 'p1', 'z'], ['s', '0', 'p2', 'p1', 'p2', 'z'], ['s', '0', 'p2', 'p1', 'p3', 'z'], ['s', '0', 'p2', 'p2', 'p1', 'z'], ['s', '0', 'p2', 'p2', 'p2', 'z'], ['s', '0', 'p2', 'p2', 'p3', 'z'], ['s', '0', 'p2', 'p3', 'p1', 'z'], ['s', '0', 'p2', 'p3', 'p2', 'z'], ['s', '0', 'p2', 'p3', 'p3', 'z'], ['s', '0', 'p3', 'p1', 'p1', 'z'], ['s', '0', 'p3', 'p1', 'p2', 'z'], ['s', '0', 'p3', 'p1', 'p3', 'z'], ['s', '0', 'p3', 'p2', 'p1', 'z'], ['s', '0', 'p3', 'p2', 'p2', 'z'], ['s', '0', 'p3', 'p2', 'p3', 'z'], ['s', '0', 'p3', 'p3', 'p1', 'z'], ['s', '0', 'p3', 'p3', 'p2', 'z'], ['s', '0', 'p3', 'p3', 'p3', 'z']]\n"
          ]
        }
      ]
    },
    {
      "cell_type": "code",
      "source": [],
      "metadata": {
        "id": "qw5S71_CES_i"
      },
      "execution_count": null,
      "outputs": []
    }
  ]
}